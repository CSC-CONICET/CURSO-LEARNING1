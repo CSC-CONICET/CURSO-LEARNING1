{
  "nbformat": 4,
  "nbformat_minor": 0,
  "metadata": {
    "colab": {
      "provenance": [],
      "collapsed_sections": []
    },
    "kernelspec": {
      "name": "python3",
      "display_name": "Python 3"
    },
    "language_info": {
      "name": "python"
    }
  },
  "cells": [
    {
      "cell_type": "code",
      "execution_count": null,
      "metadata": {
        "colab": {
          "base_uri": "https://localhost:8080/"
        },
        "id": "yOXDjrHCWa04",
        "outputId": "ac3c7851-cd19-4a7d-93da-71edb5d76e67"
      },
      "outputs": [
        {
          "output_type": "stream",
          "name": "stdout",
          "text": [
            "Data already downloaded\n"
          ]
        }
      ],
      "source": [
        "import os\n",
        "import pandas as pd\n",
        "import numpy as np\n",
        "import matplotlib.pyplot as plt\n",
        "from tqdm import tqdm\n",
        "import xml.etree.ElementTree as ET\n",
        "from IPython.display import clear_output\n",
        "\n",
        "!pip install nltk\n",
        "import nltk\n",
        "nltk.download('punkt')\n",
        "clear_output()\n",
        "\n",
        "if not os.path.exists(\"articles/\"):\n",
        "  !wget https://zenodo.org/record/1239675/files/articles.zip?download=1 -O articles.zip\n",
        "  !unzip articles.zip\n",
        "  !rm articles.zip\n",
        "  clear_output()\n",
        "  print(\"Data successfully downloaded\")\n",
        "else:\n",
        "  print(\"Data already downloaded\")\n",
        "\n",
        "\n",
        "random_seed = 176249"
      ]
    },
    {
      "cell_type": "markdown",
      "source": [
        "# Clasificación de Orientaciones políticas\n",
        "\n",
        "En este notebook vamos a tratar de predecir la orientación política del autor de una nota periodística a partir del texto de dicha nota.\n",
        "\n",
        "\n",
        "El primer paso para ello es leer los datos. En este caso, se tiene un *data frame* con artículos de diarios y la anotación de la orientación política (*left*, *right* o *mainstream*)."
      ],
      "metadata": {
        "id": "o6pfdTm9jK6z"
      }
    },
    {
      "cell_type": "code",
      "source": [
        "def read_data(test_size=0.2,random_state=0):\n",
        "  data = {\n",
        "      # \"author\": [],\n",
        "      # \"title\": [],\n",
        "      \"mainText\": [],\n",
        "      \"orientation\": [],\n",
        "      # \"veracity\": []\n",
        "  }\n",
        "  index = []\n",
        "  for filename in os.listdir(\"articles/\"):\n",
        "    root = ET.parse(f\"articles/{filename}\").getroot()\n",
        "    index.append(int(filename.split(\".\")[0]))\n",
        "    for elem in root:\n",
        "      if elem.tag in data.keys():\n",
        "        data[elem.tag].append(elem.text)\n",
        "  data = pd.DataFrame(data,index=index)\n",
        "  data = data[data.notna().all(axis=\"columns\")]\n",
        "  data = data.sample(frac=1,random_state=random_state)\n",
        "  N = len(data)\n",
        "  train_split, test_split = data.iloc[int(N*test_size):,:], data.iloc[:int(N*test_size),:]\n",
        "  train_split = train_split.reset_index(drop=True)\n",
        "  test_split = test_split.reset_index(drop=True)\n",
        "  return train_split, test_split\n",
        "  \n",
        "train_split, test_split = read_data(test_size=0.2,random_state=random_seed)\n",
        "train_split"
      ],
      "metadata": {
        "colab": {
          "base_uri": "https://localhost:8080/",
          "height": 424
        },
        "id": "38GTMWci5VKE",
        "outputId": "279e08e3-7dce-4b56-b739-dc7f82580e66"
      },
      "execution_count": null,
      "outputs": [
        {
          "output_type": "execute_result",
          "data": {
            "text/plain": [
              "                                               mainText orientation\n",
              "0     #5. Denmark pays students $900 a month to atte...        left\n",
              "1     Politico POLITICO's must-read briefing on what...  mainstream\n",
              "2     Dear President Bush. I am interested in buying...       right\n",
              "3     Just days after the University of North Dakota...        left\n",
              "4     Washington (CNN)The Senate Wednesday rejected ...  mainstream\n",
              "...                                                 ...         ...\n",
              "1279  The rioters in Charlotte may think they’re pro...       right\n",
              "1280  Last October, Hillary Clinton and her top aide...  mainstream\n",
              "1281  Kansas is bleeding money and jobs and Governor...        left\n",
              "1282  To cap off a week in which police officers sho...        left\n",
              "1283  It’s time for Episode 21 of the 2016 Nerdcast,...  mainstream\n",
              "\n",
              "[1284 rows x 2 columns]"
            ],
            "text/html": [
              "\n",
              "  <div id=\"df-fe4a5ac4-84f1-4e24-a219-510d6a79aa3d\">\n",
              "    <div class=\"colab-df-container\">\n",
              "      <div>\n",
              "<style scoped>\n",
              "    .dataframe tbody tr th:only-of-type {\n",
              "        vertical-align: middle;\n",
              "    }\n",
              "\n",
              "    .dataframe tbody tr th {\n",
              "        vertical-align: top;\n",
              "    }\n",
              "\n",
              "    .dataframe thead th {\n",
              "        text-align: right;\n",
              "    }\n",
              "</style>\n",
              "<table border=\"1\" class=\"dataframe\">\n",
              "  <thead>\n",
              "    <tr style=\"text-align: right;\">\n",
              "      <th></th>\n",
              "      <th>mainText</th>\n",
              "      <th>orientation</th>\n",
              "    </tr>\n",
              "  </thead>\n",
              "  <tbody>\n",
              "    <tr>\n",
              "      <th>0</th>\n",
              "      <td>#5. Denmark pays students $900 a month to atte...</td>\n",
              "      <td>left</td>\n",
              "    </tr>\n",
              "    <tr>\n",
              "      <th>1</th>\n",
              "      <td>Politico POLITICO's must-read briefing on what...</td>\n",
              "      <td>mainstream</td>\n",
              "    </tr>\n",
              "    <tr>\n",
              "      <th>2</th>\n",
              "      <td>Dear President Bush. I am interested in buying...</td>\n",
              "      <td>right</td>\n",
              "    </tr>\n",
              "    <tr>\n",
              "      <th>3</th>\n",
              "      <td>Just days after the University of North Dakota...</td>\n",
              "      <td>left</td>\n",
              "    </tr>\n",
              "    <tr>\n",
              "      <th>4</th>\n",
              "      <td>Washington (CNN)The Senate Wednesday rejected ...</td>\n",
              "      <td>mainstream</td>\n",
              "    </tr>\n",
              "    <tr>\n",
              "      <th>...</th>\n",
              "      <td>...</td>\n",
              "      <td>...</td>\n",
              "    </tr>\n",
              "    <tr>\n",
              "      <th>1279</th>\n",
              "      <td>The rioters in Charlotte may think they’re pro...</td>\n",
              "      <td>right</td>\n",
              "    </tr>\n",
              "    <tr>\n",
              "      <th>1280</th>\n",
              "      <td>Last October, Hillary Clinton and her top aide...</td>\n",
              "      <td>mainstream</td>\n",
              "    </tr>\n",
              "    <tr>\n",
              "      <th>1281</th>\n",
              "      <td>Kansas is bleeding money and jobs and Governor...</td>\n",
              "      <td>left</td>\n",
              "    </tr>\n",
              "    <tr>\n",
              "      <th>1282</th>\n",
              "      <td>To cap off a week in which police officers sho...</td>\n",
              "      <td>left</td>\n",
              "    </tr>\n",
              "    <tr>\n",
              "      <th>1283</th>\n",
              "      <td>It’s time for Episode 21 of the 2016 Nerdcast,...</td>\n",
              "      <td>mainstream</td>\n",
              "    </tr>\n",
              "  </tbody>\n",
              "</table>\n",
              "<p>1284 rows × 2 columns</p>\n",
              "</div>\n",
              "      <button class=\"colab-df-convert\" onclick=\"convertToInteractive('df-fe4a5ac4-84f1-4e24-a219-510d6a79aa3d')\"\n",
              "              title=\"Convert this dataframe to an interactive table.\"\n",
              "              style=\"display:none;\">\n",
              "        \n",
              "  <svg xmlns=\"http://www.w3.org/2000/svg\" height=\"24px\"viewBox=\"0 0 24 24\"\n",
              "       width=\"24px\">\n",
              "    <path d=\"M0 0h24v24H0V0z\" fill=\"none\"/>\n",
              "    <path d=\"M18.56 5.44l.94 2.06.94-2.06 2.06-.94-2.06-.94-.94-2.06-.94 2.06-2.06.94zm-11 1L8.5 8.5l.94-2.06 2.06-.94-2.06-.94L8.5 2.5l-.94 2.06-2.06.94zm10 10l.94 2.06.94-2.06 2.06-.94-2.06-.94-.94-2.06-.94 2.06-2.06.94z\"/><path d=\"M17.41 7.96l-1.37-1.37c-.4-.4-.92-.59-1.43-.59-.52 0-1.04.2-1.43.59L10.3 9.45l-7.72 7.72c-.78.78-.78 2.05 0 2.83L4 21.41c.39.39.9.59 1.41.59.51 0 1.02-.2 1.41-.59l7.78-7.78 2.81-2.81c.8-.78.8-2.07 0-2.86zM5.41 20L4 18.59l7.72-7.72 1.47 1.35L5.41 20z\"/>\n",
              "  </svg>\n",
              "      </button>\n",
              "      \n",
              "  <style>\n",
              "    .colab-df-container {\n",
              "      display:flex;\n",
              "      flex-wrap:wrap;\n",
              "      gap: 12px;\n",
              "    }\n",
              "\n",
              "    .colab-df-convert {\n",
              "      background-color: #E8F0FE;\n",
              "      border: none;\n",
              "      border-radius: 50%;\n",
              "      cursor: pointer;\n",
              "      display: none;\n",
              "      fill: #1967D2;\n",
              "      height: 32px;\n",
              "      padding: 0 0 0 0;\n",
              "      width: 32px;\n",
              "    }\n",
              "\n",
              "    .colab-df-convert:hover {\n",
              "      background-color: #E2EBFA;\n",
              "      box-shadow: 0px 1px 2px rgba(60, 64, 67, 0.3), 0px 1px 3px 1px rgba(60, 64, 67, 0.15);\n",
              "      fill: #174EA6;\n",
              "    }\n",
              "\n",
              "    [theme=dark] .colab-df-convert {\n",
              "      background-color: #3B4455;\n",
              "      fill: #D2E3FC;\n",
              "    }\n",
              "\n",
              "    [theme=dark] .colab-df-convert:hover {\n",
              "      background-color: #434B5C;\n",
              "      box-shadow: 0px 1px 3px 1px rgba(0, 0, 0, 0.15);\n",
              "      filter: drop-shadow(0px 1px 2px rgba(0, 0, 0, 0.3));\n",
              "      fill: #FFFFFF;\n",
              "    }\n",
              "  </style>\n",
              "\n",
              "      <script>\n",
              "        const buttonEl =\n",
              "          document.querySelector('#df-fe4a5ac4-84f1-4e24-a219-510d6a79aa3d button.colab-df-convert');\n",
              "        buttonEl.style.display =\n",
              "          google.colab.kernel.accessAllowed ? 'block' : 'none';\n",
              "\n",
              "        async function convertToInteractive(key) {\n",
              "          const element = document.querySelector('#df-fe4a5ac4-84f1-4e24-a219-510d6a79aa3d');\n",
              "          const dataTable =\n",
              "            await google.colab.kernel.invokeFunction('convertToInteractive',\n",
              "                                                     [key], {});\n",
              "          if (!dataTable) return;\n",
              "\n",
              "          const docLinkHtml = 'Like what you see? Visit the ' +\n",
              "            '<a target=\"_blank\" href=https://colab.research.google.com/notebooks/data_table.ipynb>data table notebook</a>'\n",
              "            + ' to learn more about interactive tables.';\n",
              "          element.innerHTML = '';\n",
              "          dataTable['output_type'] = 'display_data';\n",
              "          await google.colab.output.renderOutput(dataTable, element);\n",
              "          const docLink = document.createElement('div');\n",
              "          docLink.innerHTML = docLinkHtml;\n",
              "          element.appendChild(docLink);\n",
              "        }\n",
              "      </script>\n",
              "    </div>\n",
              "  </div>\n",
              "  "
            ]
          },
          "metadata": {},
          "execution_count": 3
        }
      ]
    },
    {
      "cell_type": "markdown",
      "source": [
        "Una práctica muy común para procesar texto es normalizarlo. Algunas técnicas comunes son:\n",
        "* Eliminar caracteres raros e inusuales\n",
        "* Convertir todo a minúsculas\n",
        "* Eliminar palabras que no contienen información relevante (*stop words*)\n",
        "* *Lemmatization*\n",
        "* *Stemming*"
      ],
      "metadata": {
        "id": "BXin8gidlBCL"
      }
    },
    {
      "cell_type": "code",
      "source": [
        "def normalize_text(corpus,stop_words=None):\n",
        "\n",
        "  # Convierto a lowercase\n",
        "  corpus_lower = corpus.str.lower()\n",
        "\n",
        "  # Elimino signos de puntuación, caracteres raros, etc.\n",
        "  normalized_corpus = corpus_lower.str.replace(r\"[^\\w\\d\\s]+\",\"\",regex=True)\n",
        "\n",
        "  # Elimino los stopwords\n",
        "  if stop_words is not None:\n",
        "    stop_words = \"|\".join(stop_words)\n",
        "    normalized_corpus = normalized_corpus.str.replace(stop_words,\"\",regex=True)\n",
        "\n",
        "  # Elimino espacios innecesarios\n",
        "  normalized_corpus = normalized_corpus.str.replace(r\"\\s+\",\" \",regex=True)\n",
        "\n",
        "  return normalized_corpus\n",
        "\n",
        "train_data, test_data = read_data(test_size=0.2,random_state=random_seed)\n",
        "train_data[\"mainText\"] = normalize_text(train_data[\"mainText\"],stop_words=None)\n",
        "train_data"
      ],
      "metadata": {
        "colab": {
          "base_uri": "https://localhost:8080/",
          "height": 424
        },
        "id": "2x7tuRvfPLTZ",
        "outputId": "ca3dfe2f-8a50-40ee-d284-4bd03969bd8a"
      },
      "execution_count": null,
      "outputs": [
        {
          "output_type": "execute_result",
          "data": {
            "text/plain": [
              "                                               mainText orientation\n",
              "0     5 denmark pays students 900 a month to attend ...        left\n",
              "1     politico politicos mustread briefing on whats ...  mainstream\n",
              "2     dear president bush i am interested in buying ...       right\n",
              "3     just days after the university of north dakota...        left\n",
              "4     washington cnnthe senate wednesday rejected a ...  mainstream\n",
              "...                                                 ...         ...\n",
              "1279  the rioters in charlotte may think theyre prot...       right\n",
              "1280  last october hillary clinton and her top aides...  mainstream\n",
              "1281  kansas is bleeding money and jobs and governor...        left\n",
              "1282  to cap off a week in which police officers sho...        left\n",
              "1283  its time for episode 21 of the 2016 nerdcast p...  mainstream\n",
              "\n",
              "[1284 rows x 2 columns]"
            ],
            "text/html": [
              "\n",
              "  <div id=\"df-44e8ca11-44b5-4fef-a520-ec1a7eb57f97\">\n",
              "    <div class=\"colab-df-container\">\n",
              "      <div>\n",
              "<style scoped>\n",
              "    .dataframe tbody tr th:only-of-type {\n",
              "        vertical-align: middle;\n",
              "    }\n",
              "\n",
              "    .dataframe tbody tr th {\n",
              "        vertical-align: top;\n",
              "    }\n",
              "\n",
              "    .dataframe thead th {\n",
              "        text-align: right;\n",
              "    }\n",
              "</style>\n",
              "<table border=\"1\" class=\"dataframe\">\n",
              "  <thead>\n",
              "    <tr style=\"text-align: right;\">\n",
              "      <th></th>\n",
              "      <th>mainText</th>\n",
              "      <th>orientation</th>\n",
              "    </tr>\n",
              "  </thead>\n",
              "  <tbody>\n",
              "    <tr>\n",
              "      <th>0</th>\n",
              "      <td>5 denmark pays students 900 a month to attend ...</td>\n",
              "      <td>left</td>\n",
              "    </tr>\n",
              "    <tr>\n",
              "      <th>1</th>\n",
              "      <td>politico politicos mustread briefing on whats ...</td>\n",
              "      <td>mainstream</td>\n",
              "    </tr>\n",
              "    <tr>\n",
              "      <th>2</th>\n",
              "      <td>dear president bush i am interested in buying ...</td>\n",
              "      <td>right</td>\n",
              "    </tr>\n",
              "    <tr>\n",
              "      <th>3</th>\n",
              "      <td>just days after the university of north dakota...</td>\n",
              "      <td>left</td>\n",
              "    </tr>\n",
              "    <tr>\n",
              "      <th>4</th>\n",
              "      <td>washington cnnthe senate wednesday rejected a ...</td>\n",
              "      <td>mainstream</td>\n",
              "    </tr>\n",
              "    <tr>\n",
              "      <th>...</th>\n",
              "      <td>...</td>\n",
              "      <td>...</td>\n",
              "    </tr>\n",
              "    <tr>\n",
              "      <th>1279</th>\n",
              "      <td>the rioters in charlotte may think theyre prot...</td>\n",
              "      <td>right</td>\n",
              "    </tr>\n",
              "    <tr>\n",
              "      <th>1280</th>\n",
              "      <td>last october hillary clinton and her top aides...</td>\n",
              "      <td>mainstream</td>\n",
              "    </tr>\n",
              "    <tr>\n",
              "      <th>1281</th>\n",
              "      <td>kansas is bleeding money and jobs and governor...</td>\n",
              "      <td>left</td>\n",
              "    </tr>\n",
              "    <tr>\n",
              "      <th>1282</th>\n",
              "      <td>to cap off a week in which police officers sho...</td>\n",
              "      <td>left</td>\n",
              "    </tr>\n",
              "    <tr>\n",
              "      <th>1283</th>\n",
              "      <td>its time for episode 21 of the 2016 nerdcast p...</td>\n",
              "      <td>mainstream</td>\n",
              "    </tr>\n",
              "  </tbody>\n",
              "</table>\n",
              "<p>1284 rows × 2 columns</p>\n",
              "</div>\n",
              "      <button class=\"colab-df-convert\" onclick=\"convertToInteractive('df-44e8ca11-44b5-4fef-a520-ec1a7eb57f97')\"\n",
              "              title=\"Convert this dataframe to an interactive table.\"\n",
              "              style=\"display:none;\">\n",
              "        \n",
              "  <svg xmlns=\"http://www.w3.org/2000/svg\" height=\"24px\"viewBox=\"0 0 24 24\"\n",
              "       width=\"24px\">\n",
              "    <path d=\"M0 0h24v24H0V0z\" fill=\"none\"/>\n",
              "    <path d=\"M18.56 5.44l.94 2.06.94-2.06 2.06-.94-2.06-.94-.94-2.06-.94 2.06-2.06.94zm-11 1L8.5 8.5l.94-2.06 2.06-.94-2.06-.94L8.5 2.5l-.94 2.06-2.06.94zm10 10l.94 2.06.94-2.06 2.06-.94-2.06-.94-.94-2.06-.94 2.06-2.06.94z\"/><path d=\"M17.41 7.96l-1.37-1.37c-.4-.4-.92-.59-1.43-.59-.52 0-1.04.2-1.43.59L10.3 9.45l-7.72 7.72c-.78.78-.78 2.05 0 2.83L4 21.41c.39.39.9.59 1.41.59.51 0 1.02-.2 1.41-.59l7.78-7.78 2.81-2.81c.8-.78.8-2.07 0-2.86zM5.41 20L4 18.59l7.72-7.72 1.47 1.35L5.41 20z\"/>\n",
              "  </svg>\n",
              "      </button>\n",
              "      \n",
              "  <style>\n",
              "    .colab-df-container {\n",
              "      display:flex;\n",
              "      flex-wrap:wrap;\n",
              "      gap: 12px;\n",
              "    }\n",
              "\n",
              "    .colab-df-convert {\n",
              "      background-color: #E8F0FE;\n",
              "      border: none;\n",
              "      border-radius: 50%;\n",
              "      cursor: pointer;\n",
              "      display: none;\n",
              "      fill: #1967D2;\n",
              "      height: 32px;\n",
              "      padding: 0 0 0 0;\n",
              "      width: 32px;\n",
              "    }\n",
              "\n",
              "    .colab-df-convert:hover {\n",
              "      background-color: #E2EBFA;\n",
              "      box-shadow: 0px 1px 2px rgba(60, 64, 67, 0.3), 0px 1px 3px 1px rgba(60, 64, 67, 0.15);\n",
              "      fill: #174EA6;\n",
              "    }\n",
              "\n",
              "    [theme=dark] .colab-df-convert {\n",
              "      background-color: #3B4455;\n",
              "      fill: #D2E3FC;\n",
              "    }\n",
              "\n",
              "    [theme=dark] .colab-df-convert:hover {\n",
              "      background-color: #434B5C;\n",
              "      box-shadow: 0px 1px 3px 1px rgba(0, 0, 0, 0.15);\n",
              "      filter: drop-shadow(0px 1px 2px rgba(0, 0, 0, 0.3));\n",
              "      fill: #FFFFFF;\n",
              "    }\n",
              "  </style>\n",
              "\n",
              "      <script>\n",
              "        const buttonEl =\n",
              "          document.querySelector('#df-44e8ca11-44b5-4fef-a520-ec1a7eb57f97 button.colab-df-convert');\n",
              "        buttonEl.style.display =\n",
              "          google.colab.kernel.accessAllowed ? 'block' : 'none';\n",
              "\n",
              "        async function convertToInteractive(key) {\n",
              "          const element = document.querySelector('#df-44e8ca11-44b5-4fef-a520-ec1a7eb57f97');\n",
              "          const dataTable =\n",
              "            await google.colab.kernel.invokeFunction('convertToInteractive',\n",
              "                                                     [key], {});\n",
              "          if (!dataTable) return;\n",
              "\n",
              "          const docLinkHtml = 'Like what you see? Visit the ' +\n",
              "            '<a target=\"_blank\" href=https://colab.research.google.com/notebooks/data_table.ipynb>data table notebook</a>'\n",
              "            + ' to learn more about interactive tables.';\n",
              "          element.innerHTML = '';\n",
              "          dataTable['output_type'] = 'display_data';\n",
              "          await google.colab.output.renderOutput(dataTable, element);\n",
              "          const docLink = document.createElement('div');\n",
              "          docLink.innerHTML = docLinkHtml;\n",
              "          element.appendChild(docLink);\n",
              "        }\n",
              "      </script>\n",
              "    </div>\n",
              "  </div>\n",
              "  "
            ]
          },
          "metadata": {},
          "execution_count": 4
        }
      ]
    },
    {
      "cell_type": "markdown",
      "source": [
        "Una vez preprocesado, es necesario definir el vocabulario. Es decir, el conjunto de palabras que van a ser consideradas en la extracción de *features*."
      ],
      "metadata": {
        "id": "2ckxtUrJmD0-"
      }
    },
    {
      "cell_type": "code",
      "source": [
        "from nltk import word_tokenize\n",
        "from collections import defaultdict\n",
        "\n",
        "def create_vocabulary(corpus,tokenizer,max_tokens=40000,min_freq=1):\n",
        "  counts = defaultdict(lambda: 0)\n",
        "  for comment in tqdm(corpus):\n",
        "    for token in tokenizer(comment):\n",
        "      counts[token] += 1\n",
        "\n",
        "  valid_tokens = sorted([tk for tk in counts.keys() if counts[tk] >= min_freq],key=counts.get,reverse=True)[:max_tokens]\n",
        "  counts = [counts[tk] for tk in valid_tokens]\n",
        "  return pd.Series(counts,index=valid_tokens)\n",
        "\n",
        "train_data, test_data = read_data()\n",
        "train_data[\"mainText\"] = normalize_text(train_data[\"mainText\"],stop_words=[\"the\",\"to\",\"and\",\"of\",\"a\",\"in\",\"that\",\"for\",\"on\",\"this\",\"at\",\"on\"])\n",
        "vocab = create_vocabulary(train_data[\"mainText\"],word_tokenize,max_tokens=10000,min_freq=5)\n",
        "\n",
        "fig, ax = plt.subplots(1,1,figsize=(20,8))\n",
        "vocab[:100].plot(kind=\"bar\",ax=ax,fontsize=10)\n",
        "ax.grid(True)"
      ],
      "metadata": {
        "colab": {
          "base_uri": "https://localhost:8080/",
          "height": 543
        },
        "id": "TJEKNo_kF3g2",
        "outputId": "1b3a6873-2a5b-4852-ae80-1630dbbfa11c"
      },
      "execution_count": null,
      "outputs": [
        {
          "output_type": "stream",
          "name": "stderr",
          "text": [
            "100%|██████████| 1284/1284 [00:02<00:00, 490.40it/s]\n"
          ]
        },
        {
          "output_type": "display_data",
          "data": {
            "text/plain": [
              "<Figure size 1440x576 with 1 Axes>"
            ],
            "image/png": "[encoded data removed]"
          },
          "metadata": {
            "needs_background": "light"
          }
        }
      ]
    },
    {
      "cell_type": "markdown",
      "source": [
        "Una vez hecho esto, es posible vectorizar cada noticia haciendo lo que se conoce como una \"bolsa de palabras\" (*bag of words*). Es decir, cada documento (noticia) de la base de datos va a consistir en un vecor que contenga en sus componentes la cantidad de veces que aparecieron las palabras del vocabulario en él. "
      ],
      "metadata": {
        "id": "NglViUdLmU4d"
      }
    },
    {
      "cell_type": "code",
      "source": [
        "def vectorize(corpus,tokenizer,vocab):\n",
        "  N = len(vocab)\n",
        "  corpus_size = len(corpus)\n",
        "  X = np.zeros((len(corpus),N))\n",
        "\n",
        "  token2idx = {tk: i for i, tk in enumerate(vocab.index)}\n",
        "  for i, article in enumerate(tqdm(corpus)):\n",
        "    for w in tokenizer(article):\n",
        "      if w in vocab.index:\n",
        "        idx = token2idx[w]\n",
        "        X[i,idx] += 1\n",
        "  \n",
        "  return X\n",
        "        \n",
        "\n",
        "train_data, test_data = read_data()\n",
        "train_data[\"mainText\"] = normalize_text(train_data[\"mainText\"],stop_words=[\"the\",\"to\",\"and\",\"of\",\"a\",\"in\",\"that\",\"for\",\"on\",\"this\",\"at\",\"on\"])\n",
        "test_data[\"mainText\"] = normalize_text(test_data[\"mainText\"],stop_words=[\"the\",\"to\",\"and\",\"of\",\"a\",\"in\",\"that\",\"for\",\"on\",\"this\",\"at\",\"on\"])\n",
        "\n",
        "vocab = create_vocabulary(train_data[\"mainText\"],word_tokenize,max_tokens=10000,min_freq=5)\n",
        "X_train = vectorize(train_data[\"mainText\"],word_tokenize,vocab)\n",
        "y_train = train_data[\"orientation\"].map({\"mainstream\": 0, \"right\": 1, \"left\": 2})\n",
        "\n",
        "X_test = vectorize(test_data[\"mainText\"],word_tokenize,vocab)\n",
        "y_test = test_data[\"orientation\"].map({\"mainstream\": 0, \"right\": 1, \"left\": 2})"
      ],
      "metadata": {
        "colab": {
          "base_uri": "https://localhost:8080/"
        },
        "id": "1DoR02fsVWmp",
        "outputId": "acd6bed1-f49e-4ff2-bdf1-c5e06577c127"
      },
      "execution_count": null,
      "outputs": [
        {
          "output_type": "stream",
          "name": "stderr",
          "text": [
            "100%|██████████| 1284/1284 [00:02<00:00, 590.78it/s]\n",
            "100%|██████████| 1284/1284 [00:02<00:00, 454.10it/s]\n",
            "100%|██████████| 320/320 [00:00<00:00, 406.45it/s]\n"
          ]
        }
      ]
    },
    {
      "cell_type": "markdown",
      "source": [
        "## Baseline\n",
        "\n",
        "*Show time!* Ahora sí vamos a clasificar noticias. Cuando tenemos una base de datos nueva, una buena práctica es utilizar un modelo ingénuo (*dummy* o *naive*) para evaluarlo. En clasificación es muy común utilizar un modelo que aprende cuál fue la clase más frecuente durante el entrenamiento y elige siempre ésta cuando tiene que realizar una predicción. Esto puede implementarse fácilmente utilizando el objeto `DummyClassifier` de [scikit-learn](https://scikit-learn.org/stable/index.html).\n",
        "\n",
        "Para evaluar nuestro clasificación vamos a utilizar algunas funciones de la librería `metrics` del mismo paquete. En particular, `plot_confusion_matrix` nos muestra la matriz de confusión del problema de clasificación."
      ],
      "metadata": {
        "id": "nC8zm72bnIbo"
      }
    },
    {
      "cell_type": "code",
      "source": [
        "from sklearn.dummy import DummyClassifier\n",
        "from sklearn.metrics import ConfusionMatrixDisplay, classification_report\n",
        "\n",
        "def show_results(y_true,y_pred):\n",
        "\n",
        "  # Plot confusion matrix\n",
        "  fig, ax = plt.subplots(1,1,figsize=(10,10))\n",
        "  dsp = ConfusionMatrixDisplay.from_predictions(y_true,y_pred,display_labels=[\"mainstream\", \"right\", \"left\"],ax=ax)\n",
        "\n",
        "  # Show Classification report\n",
        "  print(classification_report(y_true,y_pred))\n",
        "\n",
        "\n",
        "clf = DummyClassifier(strategy=\"most_frequent\")\n",
        "clf.fit(X_train,y_train)\n",
        "y_test_pred = clf.predict(X_test)\n",
        "print(\"Baseline model:\")\n",
        "show_results(y_test,y_test_pred)"
      ],
      "metadata": {
        "colab": {
          "base_uri": "https://localhost:8080/",
          "height": 895
        },
        "id": "VSh7XDkHYV7-",
        "outputId": "3b7c9655-0cad-434f-ba29-a288caf972e3"
      },
      "execution_count": null,
      "outputs": [
        {
          "output_type": "stream",
          "name": "stdout",
          "text": [
            "Baseline model:\n",
            "              precision    recall  f1-score   support\n",
            "\n",
            "           0       0.52      1.00      0.68       166\n",
            "           1       0.00      0.00      0.00       109\n",
            "           2       0.00      0.00      0.00        45\n",
            "\n",
            "    accuracy                           0.52       320\n",
            "   macro avg       0.17      0.33      0.23       320\n",
            "weighted avg       0.27      0.52      0.35       320\n",
            "\n"
          ]
        },
        {
          "output_type": "stream",
          "name": "stderr",
          "text": [
            "/usr/local/lib/python3.7/dist-packages/sklearn/metrics/_classification.py:1318: UndefinedMetricWarning: Precision and F-score are ill-defined and being set to 0.0 in labels with no predicted samples. Use `zero_division` parameter to control this behavior.\n",
            "  _warn_prf(average, modifier, msg_start, len(result))\n",
            "/usr/local/lib/python3.7/dist-packages/sklearn/metrics/_classification.py:1318: UndefinedMetricWarning: Precision and F-score are ill-defined and being set to 0.0 in labels with no predicted samples. Use `zero_division` parameter to control this behavior.\n",
            "  _warn_prf(average, modifier, msg_start, len(result))\n",
            "/usr/local/lib/python3.7/dist-packages/sklearn/metrics/_classification.py:1318: UndefinedMetricWarning: Precision and F-score are ill-defined and being set to 0.0 in labels with no predicted samples. Use `zero_division` parameter to control this behavior.\n",
            "  _warn_prf(average, modifier, msg_start, len(result))\n"
          ]
        },
        {
          "output_type": "display_data",
          "data": {
            "text/plain": [
              "<Figure size 720x720 with 2 Axes>"
            ],
            "image/png": "[encoded data removed]"
          },
          "metadata": {
            "needs_background": "light"
          }
        }
      ]
    },
    {
      "cell_type": "markdown",
      "source": [
        "## BOW + Clasificador Softmax\n",
        "\n",
        "**Tarea 1: Implementar una vectorización por bolsa de palabras y entrenar un clasificador Softmax para clasificar orientaciones políticas. Utilizar exactitud como métrica de evaluación.**\n",
        "\n",
        "Analizar:\n",
        "* ¿Funciona mejor el clasificador entrenado que el modelo baseline?\n",
        "* ¿Cómo influye la cantidad de palabras elegidas? ¿Y la frecuencia mínima de aparición? \n",
        "* ¿Qué importancia tienen las stop words en este caso?\n",
        "* ¿Hay overfitting? ¿Cómo podría reducirlo?"
      ],
      "metadata": {
        "id": "haPX3KdHrCLh"
      }
    },
    {
      "cell_type": "code",
      "source": [
        "def get_and_bow_vectorize_data(\n",
        "    stop_words=None,\n",
        "    max_tokens=10000,\n",
        "    min_freq=1\n",
        "):\n",
        "\n",
        "  train_data, test_data = read_data()\n",
        "  train_data[\"mainText\"] = normalize_text(train_data[\"mainText\"],stop_words=stop_words)\n",
        "  test_data[\"mainText\"] = normalize_text(test_data[\"mainText\"],stop_words=stop_words)\n",
        "\n",
        "  vocab = create_vocabulary(train_data[\"mainText\"],word_tokenize,max_tokens=max_tokens,min_freq=min_freq)\n",
        "  X_train = vectorize(train_data[\"mainText\"],word_tokenize,vocab)\n",
        "  y_train = train_data[\"orientation\"].map({\"mainstream\": 0, \"right\": 1, \"left\": 2})\n",
        "\n",
        "  X_test = vectorize(test_data[\"mainText\"],word_tokenize,vocab)\n",
        "  y_test = test_data[\"orientation\"].map({\"mainstream\": 0, \"right\": 1, \"left\": 2})\n",
        "\n",
        "  return X_train, y_train, X_test, y_test\n",
        "\n",
        "# Leo y vectorizo las noticias\n",
        "X_train, y_train, X_test, y_test = get_and_bow_vectorize_data()\n",
        "\n",
        "# TODO: Implementar Softmax Classifier\n",
        "# ...\n",
        "# END TODO"
      ],
      "metadata": {
        "id": "DjzQUF0RrA1u"
      },
      "execution_count": null,
      "outputs": []
    },
    {
      "cell_type": "markdown",
      "source": [
        "## Features selection\n",
        "\n",
        "**Tarea 2: Implementar una vectorización por palabras claves. Es decir, definir un vocabulario inspeccionando las noticias de la base de datos y tratar de hipotetizar qué palabras pueden servir para discriminar entre noticias de izquierda, derecha y *mainstream*. Una  vez hecho esto, implementar nuevamente el clasificador anterior y utilizarlo para predecir en este nuevo escenario.**\n",
        "\n",
        "Hint: para este análisis puede que sea necesario hacer una inspección de los datos y ver qué palabras aparecieron en cada categoría. En este punto, cualquier idea *out-of-the-box* también puede ser útil :)"
      ],
      "metadata": {
        "id": "fihwiEotvC3T"
      }
    },
    {
      "cell_type": "code",
      "source": [
        "def get_data_and_select_keywords(\n",
        "    stop_words=None,\n",
        "):\n",
        "\n",
        "  train_data, test_data = read_data()\n",
        "  train_data[\"mainText\"] = normalize_text(train_data[\"mainText\"],stop_words=stop_words)\n",
        "  test_data[\"mainText\"] = normalize_text(test_data[\"mainText\"],stop_words=stop_words)\n",
        "\n",
        "  # TODO: implementar selección de palabras claves.\n",
        "  vocab = {}\n",
        "  # END TODO\n",
        "\n",
        "  X_train = vectorize(train_data[\"mainText\"],word_tokenize,vocab)\n",
        "  y_train = train_data[\"orientation\"].map({\"mainstream\": 0, \"right\": 1, \"left\": 2})\n",
        "\n",
        "  X_test = vectorize(test_data[\"mainText\"],word_tokenize,vocab)\n",
        "  y_test = test_data[\"orientation\"].map({\"mainstream\": 0, \"right\": 1, \"left\": 2})\n",
        "\n",
        "  return X_train, y_train, X_test, y_test\n",
        "\n",
        "# Leo y vectorizo las noticias\n",
        "X_train, y_train, X_test, y_test = get_data_and_select_keywords()\n",
        "\n",
        "# TODO: Implementar Softmax Classifier\n",
        "# ...\n",
        "# END TODO"
      ],
      "metadata": {
        "id": "8xRsLfoav4ty"
      },
      "execution_count": null,
      "outputs": []
    }
  ]
}