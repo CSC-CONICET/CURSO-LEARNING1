{
  "nbformat": 4,
  "nbformat_minor": 0,
  "metadata": {
    "colab": {
      "provenance": []
    },
    "kernelspec": {
      "name": "python3",
      "display_name": "Python 3"
    },
    "language_info": {
      "name": "python"
    },
    "accelerator": "GPU"
  },
  "cells": [
    {
      "cell_type": "code",
      "execution_count": null,
      "metadata": {
        "id": "Z2bWmh-krf1b"
      },
      "outputs": [],
      "source": [
        "import tensorflow as tf\n",
        "import numpy as np\n",
        "import matplotlib.pyplot as plt\n",
        "\n",
        "fashion_mnist = tf.keras.datasets.fashion_mnist\n",
        "(train_images, train_labels), (validation_images, validation_labels) = fashion_mnist.load_data()"
      ]
    },
    {
      "cell_type": "code",
      "source": [
        "media = np.mean(train_images,axis=0)\n",
        "desvio = np.std(train_images,axis=0)\n",
        "train_images = (train_images - media)/desvio\n",
        "ntr = train_images.shape[0] \n",
        "dx = train_images.shape[1]*train_images.shape[2] \n",
        "validation_images = (validation_images - media)/desvio"
      ],
      "metadata": {
        "id": "l7Bhek5YsjxJ"
      },
      "execution_count": null,
      "outputs": []
    },
    {
      "cell_type": "markdown",
      "source": [
        "Inicializaciones"
      ],
      "metadata": {
        "id": "JtGB0xgnuZSC"
      }
    },
    {
      "cell_type": "code",
      "source": [
        "batchsize = 256\n",
        "num_epochs = 3\n",
        "n_hidden_units = 128\n",
        "model = tf.keras.Sequential()\n",
        "model.add(tf.keras.layers.Input(shape=(28,28)))\n",
        "model.add(tf.keras.layers.Flatten())\n",
        "model.add(tf.keras.layers.Dense(n_hidden_units, activation='relu',kernel_initializer='GlorotNormal'))\n",
        "model.add(tf.keras.layers.Dense(dx,kernel_initializer='HeNormal'))\n",
        "model.add(tf.keras.layers.Reshape((28, 28), input_shape=(dx,)))\n",
        "model.summary()"
      ],
      "metadata": {
        "id": "j8c73D8-swcb"
      },
      "execution_count": null,
      "outputs": []
    },
    {
      "cell_type": "markdown",
      "source": [
        "Learning Rate Decay"
      ],
      "metadata": {
        "id": "H3OXZB7HtA2g"
      }
    },
    {
      "cell_type": "code",
      "source": [
        "def step_decay(epoch):\n",
        "   if epoch < 2:\n",
        "     lrate = 0.01\n",
        "   else:\n",
        "     lrate = 0.001 \n",
        "   return lrate\n",
        "   \n",
        "lrate = tf.keras.callbacks.LearningRateScheduler(step_decay)\n",
        "model.compile(optimizer=tf.keras.optimizers.Adam(),loss='MeanSquaredError')\n",
        "hist = model.fit(x=train_images, y=train_images, batch_size = batchsize, epochs=num_epochs, callbacks = [lrate], validation_data=(validation_images,validation_images))"
      ],
      "metadata": {
        "id": "2Y4NotXKtCTc"
      },
      "execution_count": null,
      "outputs": []
    },
    {
      "cell_type": "markdown",
      "source": [
        "Weight Decay"
      ],
      "metadata": {
        "id": "bNkeVfnitbk3"
      }
    },
    {
      "cell_type": "code",
      "source": [
        "modelwd = tf.keras.Sequential()\n",
        "modelwd.add(tf.keras.layers.Flatten(input_shape=(28, 28)))\n",
        "modelwd.add(tf.keras.layers.Dense(512, activation='relu',kernel_initializer='glorot_normal',kernel_regularizer=tf.keras.regularizers.l2(1e-3)))\n",
        "modelwd.add(tf.keras.layers.Dense(256, activation='relu',kernel_initializer='he_normal',kernel_regularizer=tf.keras.regularizers.l2(1e-3)))\n",
        "modelwd.add(tf.keras.layers.Dense(128, activation='relu',kernel_initializer='he_normal',kernel_regularizer=tf.keras.regularizers.l2(1e-3)))\n",
        "modelwd.add(tf.keras.layers.Dense(10, activation='softmax',kernel_initializer='he_normal'))\n",
        "modelwd.summary()\n",
        "modelwd.compile(optimizer=tf.keras.optimizers.Nadam(),loss='sparse_categorical_crossentropy',metrics=['accuracy'])\n",
        "hist_wd = modelwd.fit(x=train_images, y=train_labels, batch_size = batchsize, epochs=num_epochs,validation_data=(validation_images,validation_labels))"
      ],
      "metadata": {
        "id": "3FeWsCXQtauL"
      },
      "execution_count": null,
      "outputs": []
    },
    {
      "cell_type": "markdown",
      "source": [
        "Early Stopping"
      ],
      "metadata": {
        "id": "b-A6qoqFw6Df"
      }
    },
    {
      "cell_type": "code",
      "source": [
        "es = tf.keras.callbacks.EarlyStopping(monitor='val_accuracy', patience=5)\n",
        "modelwd.compile(optimizer=tf.keras.optimizers.Nadam(),loss='sparse_categorical_crossentropy',metrics=['accuracy'])\n",
        "hist = modelwd.fit(x=train_images, y=train_labels, batch_size = batchsize, epochs=100,validation_data=(validation_images,validation_labels),callbacks=[es,lrate])"
      ],
      "metadata": {
        "id": "VdpdtREkw37N"
      },
      "execution_count": null,
      "outputs": []
    },
    {
      "cell_type": "markdown",
      "source": [
        "Dropout"
      ],
      "metadata": {
        "id": "0zTmmPKPyk67"
      }
    },
    {
      "cell_type": "code",
      "source": [
        "modeldro = tf.keras.Sequential()\n",
        "modeldro.add(tf.keras.layers.Flatten(input_shape=(28, 28)))\n",
        "modeldro.add(tf.keras.layers.Dense(512, activation='relu',kernel_initializer='glorot_normal'))\n",
        "modeldro.add(tf.keras.layers.Dropout(0.2)) #pdrop\n",
        "modeldro.add(tf.keras.layers.Dense(256, activation='relu',kernel_initializer='he_normal'))\n",
        "modeldro.add(tf.keras.layers.Dropout(0.2))\n",
        "modeldro.add(tf.keras.layers.Dense(128, activation='relu',kernel_initializer='he_normal'))\n",
        "modeldro.add(tf.keras.layers.Dropout(0.2))\n",
        "modeldro.add(tf.keras.layers.Dense(10, activation='softmax',kernel_initializer='he_normal'))\n",
        "modeldro.summary()\n",
        "modeldro.compile(optimizer=tf.keras.optimizers.RMSprop(),loss='sparse_categorical_crossentropy',metrics=['accuracy'])\n",
        "hist_dro = modeldro.fit(x=train_images, y=train_labels, batch_size = batchsize, epochs=num_epochs,validation_data=(validation_images,validation_labels))"
      ],
      "metadata": {
        "id": "jYOIcvhKyazv"
      },
      "execution_count": null,
      "outputs": []
    },
    {
      "cell_type": "markdown",
      "source": [
        "Data Augmentation"
      ],
      "metadata": {
        "id": "fu-Xy18Hy2JM"
      }
    },
    {
      "cell_type": "code",
      "source": [
        "new_images = np.zeros(train_images.shape)\n",
        "for k in range(train_labels.shape[0]):\n",
        "  new_images[k] = (np.fliplr(train_images[k]*desvio + media)-media)/desvio\n",
        "\n",
        "train_images_da=np.concatenate([train_images,new_images])\n",
        "train_labels_da=np.concatenate([train_labels,train_labels])\n",
        "\n",
        "text_labels = ['T-shirt/top', 'Trouser', 'Pullover', 'Dress', 'Coat', 'Sandal', 'Shirt', 'Sneaker', 'Bag', 'Ankle boot']\n",
        "plt.figure(figsize=(8,4))\n",
        "for i in range(4):\n",
        "    plt.subplot(2,4,2*i+1)\n",
        "    plt.xticks([])\n",
        "    plt.yticks([])\n",
        "    plt.grid(False)\n",
        "    img_index = np.random.randint(0, train_images.shape[0])\n",
        "    plt.imshow(desvio*train_images[img_index]+media, cmap=\"gray_r\")\n",
        "    plt.xlabel(text_labels[train_labels[img_index]])\n",
        "    plt.subplot(2,4,2*i+2)\n",
        "    plt.xticks([])\n",
        "    plt.yticks([])\n",
        "    plt.grid(False) \n",
        "    plt.imshow(desvio*new_images[img_index]+media, cmap=\"gray_r\")\n",
        "    plt.xlabel(text_labels[train_labels[img_index]])"
      ],
      "metadata": {
        "id": "iUy6-Niiy1i0"
      },
      "execution_count": null,
      "outputs": []
    }
  ]
}